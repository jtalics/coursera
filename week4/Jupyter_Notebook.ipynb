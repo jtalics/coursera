{
 "cells": [
  {
   "cell_type": "markdown",
   "metadata": {},
   "source": [
    "<center>\n",
    "    <img src=\"https://cf-courses-data.s3.us.cloud-object-storage.appdomain.cloud/IBMDeveloperSkillsNetwork-DS0105EN-SkillsNetwork/labs/Module2/images/SN_web_lightmode.png\" width=\"300\" alt=\"cognitiveclass.ai logo\"  />\n",
    "</center>\n"
   ]
  },
  {
   "cell_type": "markdown",
   "metadata": {},
   "source": [
    "# My Jupyter Notebook on IBM Watson Studio"
   ]
  },
  {
   "cell_type": "markdown",
   "metadata": {},
   "source": [
    "**Joseph Talafous Ph.D. Data Scientist**"
   ]
  },
  {
   "cell_type": "markdown",
   "metadata": {},
   "source": [
    "*I am interested in Data Science because it allows me to make and test real world hypotheses.*"
   ]
  },
  {
   "cell_type": "markdown",
   "metadata": {},
   "source": [
    "### In the following cell, I will calculate 1+1"
   ]
  },
  {
   "cell_type": "code",
   "execution_count": 3,
   "metadata": {},
   "outputs": [
    {
     "data": {
      "text/plain": [
       "2"
      ]
     },
     "execution_count": 3,
     "metadata": {},
     "output_type": "execute_result"
    }
   ],
   "source": [
    "1+1"
   ]
  },
  {
   "cell_type": "markdown",
   "metadata": {},
   "source": [
    "***\n",
    "horizontal rule\n",
    "***\n",
    "- bulleted list1\n",
    "- bulleted list2\n",
    "\n",
    "1. numbered list1\n",
    "2. numbered list2\n",
    "\n",
    "Col1 |Col2 |Col3\n",
    "-----|-----|----- \n",
    "Data1|Data2|Data3\n",
    "Data1|Data2|Data3\n",
    "Data1|Data2|Data3\n",
    "Data1|Data2|Data3\n",
    "\n",
    "__[hyperlink](http://ibm.com)\n",
    "\n",
    "![alt_text](https://github.com/adam-p/markdown-here/raw/master/src/common/images/icon48.png “Markdown Logo”) \n",
    "\n",
    "~~~\n",
    "code/syntax highlighting\n",
    "~~~\n",
    "\n",
    ">blocked quotes\n",
    "\n",
    "~~strikethrough."
   ]
  },
  {
   "cell_type": "code",
   "execution_count": null,
   "metadata": {},
   "outputs": [],
   "source": []
  }
 ],
 "metadata": {
  "kernelspec": {
   "display_name": "Python",
   "language": "python",
   "name": "conda-env-python-py"
  },
  "language_info": {
   "codemirror_mode": {
    "name": "ipython",
    "version": 3
   },
   "file_extension": ".py",
   "mimetype": "text/x-python",
   "name": "python",
   "nbconvert_exporter": "python",
   "pygments_lexer": "ipython3",
   "version": "3.7.12"
  }
 },
 "nbformat": 4,
 "nbformat_minor": 4
}
